{
 "cells": [
  {
   "cell_type": "markdown",
   "metadata": {},
   "source": [
    "# EXPLORATORY ANALYSIS - DATA PROCESSING"
   ]
  },
  {
   "cell_type": "code",
   "execution_count": null,
   "metadata": {},
   "outputs": [],
   "source": [
    "import pandas as pd\n",
    "import numpy as np\n",
    "import matplotlib.pyplot as plt\n",
    "import os\n",
    "import nltk\n",
    "from IPython.display import HTML\n",
    "\n",
    "os.chdir(\"C:\\\\Users\\\\Francois\\\\Desktop\\\\Fitz\\\\2. Entrepreneurial projects\\\\1. Clinical trials\\\\1. Data\")"
   ]
  },
  {
   "cell_type": "code",
   "execution_count": null,
   "metadata": {
    "collapsed": true
   },
   "outputs": [],
   "source": [
    "def View(df):\n",
    "    css = \"\"\"<style>\n",
    "    table { border-collapse: collapse; border: 3px solid #eee; }\n",
    "    table tr th:first-child { background-color: #eeeeee; color: #333; font-weight: bold }\n",
    "    table thead th { background-color: #eee; color: #000; }\n",
    "    tr, th, td { border: 1px solid #ccc; border-width: 1px 0 0 1px; border-collapse: collapse;\n",
    "    padding: 3px; font-family: monospace; font-size: 10px }</style>\n",
    "    \"\"\"\n",
    "    s  = '<script type=\"text/Javascript\">'\n",
    "    s += 'var win = window.open(\"\", \"Title\", \"toolbar=no, location=no, directories=no, status=no, menubar=no, scrollbars=yes, resizable=yes, width=780, height=200, top=\"+(screen.height-400)+\", left=\"+(screen.width-840));'\n",
    "    s += 'win.document.body.innerHTML = \\'' + (df.to_html() + css).replace(\"\\n\",'\\\\').replace(\"'\",\"\") + '\\';'\n",
    "    s += '</script>'\n",
    "\n",
    "    return(HTML(s+css))"
   ]
  },
  {
   "cell_type": "code",
   "execution_count": null,
   "metadata": {},
   "outputs": [],
   "source": [
    "CTred=pd.read_csv('CT_clean.csv',encoding='latin-1')\n",
    "View(CTred.head(500))\n",
    "pd.DataFrame(CTred.columns.values)"
   ]
  },
  {
   "cell_type": "code",
   "execution_count": null,
   "metadata": {},
   "outputs": [],
   "source": [
    "CTred['Nb non missing values'] = CTred.apply(lambda x: x.count(), axis=1)\n",
    "CTred[\"Nb non missing values\"].idxmax()"
   ]
  },
  {
   "cell_type": "markdown",
   "metadata": {},
   "source": [
    "##    BUILDING THE DATABASE"
   ]
  },
  {
   "cell_type": "code",
   "execution_count": null,
   "metadata": {},
   "outputs": [],
   "source": [
    "CTsummary=pd.DataFrame(CT.apply(lambda x: x.isnull().sum()),columns=[\"Nb Missing Values\"])\n",
    "CTsummary[\"Nb Unique Values\"]=CT.apply(lambda x: len(x.unique()))\n",
    "CTsummary[\"Multiple text Variable\"]=CT.apply(lambda x: x.str.contains('[|]').any())\n",
    "CTsummary[\"Number of Multiple text\"]=CT.apply(lambda x: len(CT[x.str.contains('[|]')==True]))\n",
    "CTsummary.head()"
   ]
  },
  {
   "cell_type": "code",
   "execution_count": null,
   "metadata": {
    "collapsed": true
   },
   "outputs": [],
   "source": [
    "CTsummary.to_csv(\"C:\\\\Users\\\\ffitzpatrick\\\\Desktop\\\\Documents perso\\\\Perso\\\\Clinical trials - project\\\\2. Analysis\\\\Analysis extract\\\\CT_summary.csv\")"
   ]
  },
  {
   "cell_type": "code",
   "execution_count": null,
   "metadata": {},
   "outputs": [],
   "source": [
    "CT.loc[:,\"acronym.text\"].str.contains('[|]').any()\n",
    "CT.loc[:,\"acronym.text\"].str.contains('[|]').value_counts()\n",
    "len(CT[CT.loc[:,\"acronym.text\"].str.contains('[|]')==True])"
   ]
  },
  {
   "cell_type": "markdown",
   "metadata": {},
   "source": [
    "### Reformating Numerical variables"
   ]
  },
  {
   "cell_type": "code",
   "execution_count": null,
   "metadata": {},
   "outputs": [],
   "source": [
    "CTred[[\"enrollment.text\"]].dtypes\n",
    "CTred[\"enrollment\"]=pd.to_numeric(CTred.loc[:,\"enrollment.text\"],errors='coerce')\n",
    "CTred.loc[1:5,\"enrollment\"]"
   ]
  },
  {
   "cell_type": "raw",
   "metadata": {
    "collapsed": true
   },
   "source": [
    "CTred[\"number_of_arms\"]=pd.to_numeric(CTred.loc[:,\"number_of_arms.text\"],errors='coerce')\n",
    "CTred[\"number_of_groups\"]=pd.to_numeric(CTred.loc[:,\"number_of_groups.text\"],errors='coerce')\n",
    "CTred.loc[1:5,\"number_of_arms\"]"
   ]
  },
  {
   "cell_type": "code",
   "execution_count": null,
   "metadata": {
    "collapsed": true
   },
   "outputs": [],
   "source": [
    "dictionary_unit={\"Years\":1,\"Year\":1,\"Months\":1/12,\"Month\":1/12, \n",
    "                 \"Weeks\":1/52,\"Week\":1/52,\"Days\":1/365,\"Day\":1/365,\"Hours\":1/(365/24),\"Hour\":1/(365/24),\"Minutes\":1/(365/24/60),\"Minute\":1/(365/24/60)}\n"
   ]
  },
  {
   "cell_type": "code",
   "execution_count": null,
   "metadata": {
    "collapsed": true
   },
   "outputs": [],
   "source": [
    "CTred['MInimum_age_num'], CTred['Minimum_age_unit'] = CTred['eligibility.minimum_age'].str.split(' ', 1).str\n",
    "CTred['Minimum_age_unit_2']=CTred['Minimum_age_unit'].replace(dictionary_unit)\n",
    "CTred['MInimum_age_num_2']=pd.to_numeric(CTred.loc[:,'MInimum_age_num'],errors='coerce')\n",
    "CTred[\"Minimum_age\"]=CTred[\"MInimum_age_num_2\"]*CTred[\"Minimum_age_unit_2\"]\n",
    "\n",
    "CTred[['eligibility.minimum_age',\"MInimum_age_num\",\"Minimum_age_unit\",\"Minimum_age_unit_2\",\"MInimum_age_num_2\",\"Minimum_age\"]][100:180]\n",
    "CTred=CTred.drop([\"MInimum_age_num\",\"Minimum_age_unit\",\"Minimum_age_unit_2\",\"MInimum_age_num_2\"],axis=1)"
   ]
  },
  {
   "cell_type": "code",
   "execution_count": null,
   "metadata": {
    "collapsed": true
   },
   "outputs": [],
   "source": [
    "CTred['Maximum_age_num'], CTred['Maximum_age_unit'] = CTred['eligibility.maximum_age'].str.split(' ', 1).str\n",
    "CTred['Maximum_age_unit_2']=CTred['Maximum_age_unit'].replace(dictionary_unit)\n",
    "CTred['Maximum_age_num_2']=pd.to_numeric(CTred.loc[:,'Maximum_age_num'],errors='coerce')\n",
    "CTred[\"Maximum_age\"]=CTred[\"Maximum_age_num_2\"]*CTred[\"Maximum_age_unit_2\"]\n",
    "\n",
    "CTred[['eligibility.maximum_age',\"Maximum_age_num\",\"Maximum_age_unit\",\"Maximum_age_unit_2\",\"Maximum_age_num_2\",\"Maximum_age\"]][100:180]\n",
    "CTred=CTred.drop([\"Maximum_age_num\",\"Maximum_age_unit\",\"Maximum_age_unit_2\",\"Maximum_age_num_2\"],axis=1)"
   ]
  },
  {
   "cell_type": "code",
   "execution_count": null,
   "metadata": {
    "collapsed": true
   },
   "outputs": [],
   "source": [
    "CTred['Target_duration_num'], CTred['Target_duration_unit'] = CTred['target_duration.text'].str.split(' ', 1).str\n",
    "CTred['Target_duration_unit_2']=CTred['Target_duration_unit'].replace(dictionary_unit)\n",
    "CTred['Target_duration_num_2']=pd.to_numeric(CTred.loc[:,'Target_duration_num'],errors='coerce')\n",
    "CTred[\"Target_duration\"]=CTred[\"Target_duration_num_2\"]*CTred[\"Target_duration_unit_2\"]\n",
    "\n",
    "CTred[['target_duration.text',\"Target_duration_num\",\"Target_duration_unit\",\"Target_duration_unit_2\",\"Target_duration_num_2\",\"Target_duration\"]].dropna(thresh=2)[1:180]\n",
    "CTred=CTred.drop([\"Target_duration_num\",\"Target_duration_unit\",\"Target_duration_unit_2\",\"Target_duration_num_2\"],axis=1)"
   ]
  },
  {
   "cell_type": "code",
   "execution_count": null,
   "metadata": {},
   "outputs": [],
   "source": [
    "CTred[[\"target_duration.text\",\"Target_duration\"]].dropna()"
   ]
  },
  {
   "cell_type": "markdown",
   "metadata": {},
   "source": [
    "### Reformating dates variables"
   ]
  },
  {
   "cell_type": "code",
   "execution_count": null,
   "metadata": {},
   "outputs": [],
   "source": [
    "Var_dates=[col for col in CTred.columns.values if \"date\" in col]\n",
    "Var_dates.remove(\"required_header.download_date\")\n",
    "\n",
    "CTred.dtypes\n",
    "CTred[Var_dates].dtypes\n",
    "CTred[Var_dates].head(10)"
   ]
  },
  {
   "cell_type": "code",
   "execution_count": null,
   "metadata": {
    "collapsed": true
   },
   "outputs": [],
   "source": [
    "Var_dates_new=[x.replace(\".text\",\"\") for x in Var_dates]\n",
    "CTred[Var_dates_new]=CTred[Var_dates].apply(pd.to_datetime,axis=0)\n",
    "#=pd.to_datetime(CTred[Var_dates])"
   ]
  },
  {
   "cell_type": "code",
   "execution_count": null,
   "metadata": {},
   "outputs": [],
   "source": [
    "CTred[Var_dates_new].head()"
   ]
  },
  {
   "cell_type": "markdown",
   "metadata": {},
   "source": [
    "### Reformating text structured variables"
   ]
  },
  {
   "cell_type": "markdown",
   "metadata": {},
   "source": [
    "#### Intro"
   ]
  },
  {
   "cell_type": "code",
   "execution_count": null,
   "metadata": {
    "collapsed": true
   },
   "outputs": [],
   "source": [
    "import nltk\n",
    "import re\n",
    "from collections import Counter\n",
    "from nltk.corpus import stopwords"
   ]
  },
  {
   "cell_type": "code",
   "execution_count": null,
   "metadata": {},
   "outputs": [],
   "source": [
    "#Check which variables is composed of several other variables\n",
    "CTred.loc[:,\"location.facility\"].str.contains('[|]').any()"
   ]
  },
  {
   "cell_type": "markdown",
   "metadata": {},
   "source": [
    "#### Arm Group Type"
   ]
  },
  {
   "cell_type": "code",
   "execution_count": null,
   "metadata": {},
   "outputs": [],
   "source": [
    "CTred['tokenized_arm_type']=CTred['arm_group.arm_group_type'].str.lower()\n",
    "CTred['tokenized_arm_type']=CTred['tokenized_arm_type'].str.replace(', ', '|').str.split(\"|\").tolist()\n",
    "CTred.loc[1:20,'tokenized_arm_type']"
   ]
  },
  {
   "cell_type": "code",
   "execution_count": 254,
   "metadata": {},
   "outputs": [
    {
     "data": {
      "text/plain": [
       "[('experimental', 193389),\n",
       " ('active comparator', 85269),\n",
       " ('placebo comparator', 37992),\n",
       " ('no intervention', 17080),\n",
       " ('other', 16715),\n",
       " ('sham comparator', 3488),\n",
       " ('case', 30),\n",
       " ('control', 17),\n",
       " ('treatment comparison', 2)]"
      ]
     },
     "execution_count": 254,
     "metadata": {},
     "output_type": "execute_result"
    }
   ],
   "source": [
    "armtype_count = Counter(CTred['tokenized_arm_type'].apply(pd.Series).stack())\n",
    "armtype_count.most_common(10)"
   ]
  },
  {
   "cell_type": "markdown",
   "metadata": {},
   "source": [
    "#### Condition.text"
   ]
  },
  {
   "cell_type": "code",
   "execution_count": null,
   "metadata": {
    "collapsed": true
   },
   "outputs": [],
   "source": [
    "CTred['tokenized_conditions']=CTred['condition.text'].str.lower()\n",
    "CTred['tokenized_conditions']=CTred['tokenized_conditions'].str.replace(', ', '|').str.split(\"|\").tolist()\n",
    "CTred.loc[4,'tokenized_conditions']\n",
    "CTred[[\"condition.text\",\"tokenized_conditions\"]][1:20]"
   ]
  },
  {
   "cell_type": "code",
   "execution_count": null,
   "metadata": {},
   "outputs": [],
   "source": [
    "count = Counter(CTred['tokenized_conditions'].apply(pd.Series).stack())\n",
    "\n",
    "cond_count_df = pd.DataFrame.from_dict(count, orient='index').reset_index()\n",
    "cond_count_df = count_df.rename(index=str,columns={\"index\":'Condition', 0:'count'})\n",
    "cond_count_df.head(100)\n",
    "cond_count_df.sort(\"count\",ascending=False)"
   ]
  },
  {
   "cell_type": "code",
   "execution_count": null,
   "metadata": {},
   "outputs": [],
   "source": [
    "count.most_common(20)"
   ]
  },
  {
   "cell_type": "markdown",
   "metadata": {},
   "source": [
    "#### Condition Mesh"
   ]
  },
  {
   "cell_type": "code",
   "execution_count": null,
   "metadata": {},
   "outputs": [],
   "source": [
    "CTred['tokenized_conditions_mesh']=CTred['condition_browse.mesh_term'].str.lower()\n",
    "CTred['tokenized_conditions_mesh']=CTred['tokenized_conditions_mesh'].str.replace(', ', '|').str.split(\"|\").tolist()\n",
    "CTred.loc[1:10,'tokenized_conditions_mesh']"
   ]
  },
  {
   "cell_type": "code",
   "execution_count": null,
   "metadata": {},
   "outputs": [],
   "source": [
    "cond_mesh_count = Counter(CTred['tokenized_conditions_mesh'].apply(pd.Series).stack())\n",
    "cond_mesh_count.most_common(20)"
   ]
  },
  {
   "cell_type": "markdown",
   "metadata": {},
   "source": [
    "#### Eligibility simple criteria"
   ]
  },
  {
   "cell_type": "code",
   "execution_count": null,
   "metadata": {
    "collapsed": true
   },
   "outputs": [],
   "source": [
    "eligibility_gender_count=CTred.loc[:,'eligibility.gender'].value_counts().sort_values(ascending=False)\n",
    "#eligibility_gender_count.to_frame(name=[\"eligibility_gender Val\",\"eligibility_gender Vol\"]).reset_index()\n",
    "eligibility_healthy_count=CTred.loc[:,'eligibility.healthy_volunteers'].value_counts().sort_values(ascending=False)\n",
    "eligibility_sampling_count=CTred.loc[:,'eligibility.sampling_method'].value_counts().sort_values(ascending=False)\n",
    "exp_access_count=CTred.loc[:,'has_expanded_access.text'].value_counts().sort_values(ascending=False)"
   ]
  },
  {
   "cell_type": "markdown",
   "metadata": {},
   "source": [
    "#### Intervention type"
   ]
  },
  {
   "cell_type": "code",
   "execution_count": null,
   "metadata": {},
   "outputs": [],
   "source": [
    "CTred['tokenized_intervention_type']=CTred['intervention.intervention_type'].str.lower()\n",
    "CTred['tokenized_intervention_type']=CTred['tokenized_intervention_type'].str.replace(', ', '|').str.split(\"|\").tolist()\n",
    "CTred.loc[1:20,'tokenized_intervention_type']"
   ]
  },
  {
   "cell_type": "code",
   "execution_count": null,
   "metadata": {
    "scrolled": true
   },
   "outputs": [],
   "source": [
    "interventiontype_count = Counter(CTred['tokenized_intervention_type'].apply(pd.Series).stack())\n",
    "interventiontype_count.most_common(10)"
   ]
  },
  {
   "cell_type": "markdown",
   "metadata": {},
   "source": [
    "#### Intervention MESH"
   ]
  },
  {
   "cell_type": "code",
   "execution_count": null,
   "metadata": {},
   "outputs": [],
   "source": [
    "CTred['tokenized_intervention_mesh']=CTred['intervention_browse.mesh_term'].str.lower()\n",
    "CTred['tokenized_intervention_mesh']=CTred['tokenized_intervention_mesh'].str.replace(', ', '|').str.split(\"|\").tolist()\n",
    "CTred.loc[1:20,'tokenized_intervention_mesh']"
   ]
  },
  {
   "cell_type": "code",
   "execution_count": null,
   "metadata": {
    "scrolled": true
   },
   "outputs": [],
   "source": [
    "intervention_mesh_count = Counter(CTred['tokenized_intervention_mesh'].apply(pd.Series).stack())\n",
    "intervention_mesh_count.most_common(20)"
   ]
  },
  {
   "cell_type": "markdown",
   "metadata": {},
   "source": [
    "#### Keywords"
   ]
  },
  {
   "cell_type": "code",
   "execution_count": null,
   "metadata": {
    "collapsed": true
   },
   "outputs": [],
   "source": [
    "CTred['tokenized_keyword']=CTred['keyword.text'].str.lower()\n",
    "CTred['tokenized_keyword']=CTred['tokenized_keyword'].str.replace(', ', '|').str.split(\"|\").tolist()\n",
    "CTred.loc[1:20,'tokenized_keyword']"
   ]
  },
  {
   "cell_type": "code",
   "execution_count": null,
   "metadata": {
    "scrolled": true
   },
   "outputs": [],
   "source": [
    "keyword_count = Counter(CTred['tokenized_keyword'].apply(pd.Series).stack())\n",
    "keyword_count.most_common(20)"
   ]
  },
  {
   "cell_type": "markdown",
   "metadata": {},
   "source": [
    "#### Location countries"
   ]
  },
  {
   "cell_type": "code",
   "execution_count": null,
   "metadata": {
    "collapsed": true
   },
   "outputs": [],
   "source": [
    "CTred['tokenized_countries']=CTred['location_countries.country'].str.lower()\n",
    "CTred['tokenized_countries']=CTred['tokenized_countries'].str.replace(', ', '|').str.split(\"|\").tolist()\n",
    "CTred.loc[1:20,'tokenized_countries']"
   ]
  },
  {
   "cell_type": "code",
   "execution_count": null,
   "metadata": {
    "scrolled": true
   },
   "outputs": [],
   "source": [
    "countries_count = Counter(CTred['tokenized_countries'].apply(pd.Series).stack())\n",
    "countries_count.most_common(20)"
   ]
  },
  {
   "cell_type": "markdown",
   "metadata": {},
   "source": [
    "#### Number of arms and groups"
   ]
  },
  {
   "cell_type": "code",
   "execution_count": null,
   "metadata": {
    "collapsed": true
   },
   "outputs": [],
   "source": [
    "number_arms_count=CTred.loc[:,'number_of_arms.text'].value_counts().sort_values(ascending=False)\n",
    "number_groups_count=CTred.loc[:,'number_of_groups.text'].value_counts().sort_values(ascending=False)"
   ]
  },
  {
   "cell_type": "markdown",
   "metadata": {},
   "source": [
    "#### Overall Status"
   ]
  },
  {
   "cell_type": "code",
   "execution_count": null,
   "metadata": {},
   "outputs": [],
   "source": [
    "CTred['tokenized_official_role']=CTred['overall_official.role'].str.lower()\n",
    "CTred['tokenized_official_role']=CTred['tokenized_official_role'].str.replace(', ', '|').str.split(\"|\").tolist()\n",
    "CTred.loc[1:20,'tokenized_official_role']"
   ]
  },
  {
   "cell_type": "code",
   "execution_count": null,
   "metadata": {},
   "outputs": [],
   "source": [
    "official_role_count = Counter(CTred['tokenized_official_role'].apply(pd.Series).stack())\n",
    "official_role_count.most_common(20)"
   ]
  },
  {
   "cell_type": "code",
   "execution_count": null,
   "metadata": {
    "collapsed": true
   },
   "outputs": [],
   "source": [
    "overall_status_count=CTred.loc[:,'overall_status.text'].value_counts().sort_values(ascending=False)\n",
    "oversight_dmc_count=CTred.loc[:,'oversight_info.has_dmc'].value_counts().sort_values(ascending=False)"
   ]
  },
  {
   "cell_type": "markdown",
   "metadata": {},
   "source": [
    "#### Phase, source and design study"
   ]
  },
  {
   "cell_type": "code",
   "execution_count": null,
   "metadata": {
    "collapsed": true
   },
   "outputs": [],
   "source": [
    "phase_count=CTred.loc[:,'phase.text'].value_counts().sort_values(ascending=False)\n",
    "source_count=CTred.loc[:,'source.text'].value_counts().sort_values(ascending=False)\n",
    "\n",
    "study_design_intermodel_count=CTred.loc[:,'study_design_info.intervention_model'].value_counts().sort_values(ascending=False)\n",
    "study_design_masking_count=CTred.loc[:,'study_design_info.masking'].value_counts().sort_values(ascending=False)\n",
    "study_design_purpose_count=CTred.loc[:,'study_design_info.primary_purpose'].value_counts().sort_values(ascending=False)\n",
    "study_design_type_count=CTred.loc[:,'study_type.text'].value_counts().sort_values(ascending=False)"
   ]
  },
  {
   "cell_type": "markdown",
   "metadata": {},
   "source": [
    "## BUILD KEY VARIABLES FREQUENCY "
   ]
  },
  {
   "cell_type": "code",
   "execution_count": null,
   "metadata": {},
   "outputs": [],
   "source": [
    "#CT_keyvar=pd.DataFrame(armtype_count.most_common(100),columns=[\"arm_group_type Val\",\"arm_group_type Vol\"])\n",
    "#CT[\"condition Val\",\"condition Vol\"]=count.most_common(100)\n",
    "CT_keyvar=pd.concat([pd.DataFrame(armtype_count.most_common(1000),columns=[\"arm_group_type Val\",\"arm_group_type Vol\"]),\n",
    "                     pd.DataFrame(count.most_common(1000),columns=[\"condition Val\",\"condition Vol\"]),\n",
    "                    pd.DataFrame(cond_mesh_count.most_common(1000),columns=[\"condition MESH Val\",\"condition MESH Vol\"]),\n",
    "                    \n",
    "                     pd.DataFrame({'eligibility_gender Val':eligibility_gender_count.index, 'eligibility_gender Vol':eligibility_gender_count.values}),\n",
    "                     pd.DataFrame({'eligibility_healthy Val':eligibility_healthy_count.index, 'eligibility_healthy Vol':eligibility_healthy_count.values}),\n",
    "                     pd.DataFrame({'eligibility_sampling Val':eligibility_sampling_count.index, 'eligibility_sampling Vol':eligibility_sampling_count.values}),\n",
    "                     pd.DataFrame({'exp_access Val':exp_access_count.index, 'exp_access Vol':exp_access_count.values}),\n",
    "                    \n",
    "                     pd.DataFrame(interventiontype_count.most_common(1000),columns=[\"intervention_type Val\",\"intervention_type Vol\"]),\n",
    "                    pd.DataFrame(intervention_mesh_count.most_common(1000),columns=[\"intervention_type Val\",\"intervention_type Vol\"]),\n",
    "                    pd.DataFrame(keyword_count.most_common(1000),columns=[\"keyword Val\",\"keyword Vol\"]),\n",
    "                     pd.DataFrame(countries_count.most_common(1000),columns=[\"location_countries Val\",\"location_countries Vol\"]),\n",
    "                    \n",
    "                     pd.DataFrame({'number_arms Val':number_arms_count.index, 'number_arms Vol':number_arms_count.values}),\n",
    "                     pd.DataFrame({'number_groups Val':number_groups_count.index, 'number_groups Vol':number_groups_count.values}),\n",
    "                     \n",
    "                     pd.DataFrame(official_role_count.most_common(1000),columns=[\"overall_official_role Val\",\"overall_official_role Vol\"]),\n",
    "                    \n",
    "                     pd.DataFrame({'overall_status Val':overall_status_count.index, 'overall_status Vol':overall_status_count.values}),\n",
    "                     pd.DataFrame({'oversight_dmc Val':oversight_dmc_count.index, 'oversight_dmc Vol':oversight_dmc_count.values}),\n",
    "                    pd.DataFrame({'phase Val':phase_count.index, 'phase Vol':phase_count.values}),\n",
    "                     pd.DataFrame({'source Val':source_count.index, 'source Vol':source_count.values}),\n",
    "                    pd.DataFrame({'study_design_intermodel Val':study_design_intermodel_count.index, 'study_design_intermodel Vol':study_design_intermodel_count.values}),\n",
    "                     pd.DataFrame({'study_design_masking Val':study_design_masking_count.index, 'study_design_masking Vol':study_design_masking_count.values}),\n",
    "                     pd.DataFrame({'study_design_purpose Val':study_design_purpose_count.index, 'study_design_purpose Vol':study_design_purpose_count.values}),\n",
    "                     pd.DataFrame({'study_design_type Val':study_design_type_count.index, 'study_design_type Vol':study_design_type_count.values})\n",
    "                    ], axis=1)\n",
    "CT_keyvar.iloc[0:10,30:]"
   ]
  },
  {
   "cell_type": "code",
   "execution_count": null,
   "metadata": {
    "collapsed": true
   },
   "outputs": [],
   "source": [
    "CT_keyvar.to_csv(\"C:\\\\Users\\\\ffitzpatrick\\\\Desktop\\\\Documents perso\\\\Perso\\\\Clinical trials - project\\\\2. Analysis\\\\Analysis extract\\\\CT_keyvar.csv\")"
   ]
  },
  {
   "cell_type": "code",
   "execution_count": null,
   "metadata": {
    "collapsed": true
   },
   "outputs": [],
   "source": [
    "#Test\n",
    "CTred.columns.values\n",
    "CTtest=CTred[[\"arm_group.arm_group_type\",\"condition.text\",\"condition_browse.mesh_term\",'eligibility.criteria',\n",
    "           'eligibility.gender','eligibility.healthy_volunteers','eligibility.sampling_method','has_expanded_access.text','id_info.nct_id','intervention.intervention_type',\n",
    "           'intervention_browse.mesh_term','keyword.text','last_known_status.text','location.facility','location.status','location_countries.country',\n",
    "        'other_outcome.description', 'other_outcome.measure','other_outcome.time_frame','overall_official.role',\n",
    "       'overall_status.text','oversight_info.has_dmc','oversight_info.is_fda_regulated_device','oversight_info.is_fda_regulated_drug', 'oversight_info.is_ppsd',\n",
    "       'oversight_info.is_unapproved_device','oversight_info.is_us_export','patient_data.sharing_ipd', 'phase.text','primary_outcome.description',\n",
    "       'primary_outcome.measure', 'primary_outcome.time_frame','responsible_party.responsible_party_type','secondary_outcome.description', 'secondary_outcome.measure',\n",
    "       'secondary_outcome.time_frame','study_design_info.allocation','study_design_info.intervention_model','study_design_info.masking',\n",
    "       'study_design_info.observational_model','study_design_info.primary_purpose','study_design_info.time_perspective','study_type.text',\n",
    "       'why_stopped.text', 'enrollment', 'completion_date','firstreceived_date', 'firstreceived_results_date','firstreceived_results_disposition_date', 'lastchanged_date',\n",
    "       'primary_completion_date', 'start_date', 'verification_date','number_of_arms','number_of_groups','Minimum_age','Maximum_age',\"Target_duration\"]]"
   ]
  },
  {
   "cell_type": "code",
   "execution_count": null,
   "metadata": {
    "collapsed": true
   },
   "outputs": [],
   "source": [
    "CTtest.to_csv(\"CT_clean2.csv\")"
   ]
  },
  {
   "cell_type": "markdown",
   "metadata": {},
   "source": [
    "# ANALYSIS DATABASE"
   ]
  },
  {
   "cell_type": "code",
   "execution_count": null,
   "metadata": {
    "collapsed": true
   },
   "outputs": [],
   "source": [
    "CTsim=pd.read_csv('CT_simple.csv',encoding='latin-1')"
   ]
  },
  {
   "cell_type": "code",
   "execution_count": null,
   "metadata": {
    "collapsed": true
   },
   "outputs": [],
   "source": [
    "#Get dataset of all clinical trial without phase\n",
    "import datetime \n",
    "CTred['firstreceived_date'] = pd.to_datetime(CTred['firstreceived_date'])\n",
    "CTphasena=CTred[pd.isnull(CTred[\"phase.text\"])]\n",
    "CTphasena=CTphasena[CTphasena['firstreceived_date'] > datetime.date(year=2016,month=1,day=1)]\n",
    "CTphasena['id_info.nct_id'].head(10)\n",
    "#CTphasena.head(1000).to_csv(\"CT_phase_na.csv\")"
   ]
  },
  {
   "cell_type": "code",
   "execution_count": null,
   "metadata": {
    "collapsed": true
   },
   "outputs": [],
   "source": [
    "CTsim=CTred[['enrollment','eligibility.gender','eligibility.healthy_volunteers',\n",
    "             'eligibility.sampling_method','has_expanded_access.text','Minimum_age','Maximum_age',\n",
    "             'overall_status.text','phase.text','study_design_info.allocation','study_design_info.intervention_model','study_design_info.masking',\n",
    "             'study_design_info.observational_model','study_design_info.primary_purpose','study_type.text',\n",
    "             'number_of_arms','number_of_groups',\"Target_duration\",]]"
   ]
  },
  {
   "cell_type": "code",
   "execution_count": null,
   "metadata": {
    "collapsed": true
   },
   "outputs": [],
   "source": [
    "def f(row):\n",
    "    if row['start_date_rank'] > row['firstreceived_date_rank']:\n",
    "        val = row['firstreceived_date']\n",
    "    else:\n",
    "        val = row['start_date']\n",
    "    return val\n",
    "\n",
    "def g(row):\n",
    "    if row['primary_completion_date_rank'] > row['completion_date_rank']:\n",
    "        val = row['completion_date']\n",
    "    else:\n",
    "        val = row['primary_completion_date']\n",
    "    return val"
   ]
  },
  {
   "cell_type": "code",
   "execution_count": null,
   "metadata": {
    "collapsed": true
   },
   "outputs": [],
   "source": [
    "CTdates[\"beg_date\"]=CTdates.apply(f, axis=1)\n",
    "CTdates[\"end_date\"]=CTdates.apply(g, axis=1)"
   ]
  },
  {
   "cell_type": "code",
   "execution_count": null,
   "metadata": {
    "collapsed": true
   },
   "outputs": [],
   "source": [
    "CTsim=pd.concat([CTsim,CTdates[[\"beg_date\",\"end_date\"]]],axis=1)"
   ]
  },
  {
   "cell_type": "code",
   "execution_count": null,
   "metadata": {
    "collapsed": true
   },
   "outputs": [],
   "source": [
    "CTsim['beg_date'] = pd.to_datetime(CTsim['beg_date'])\n",
    "CTsim['end_date'] = pd.to_datetime(CTsim['end_date'])\n",
    "CTsim[\"Duration\"]=CTsim['end_date']-CTsim['beg_date']"
   ]
  },
  {
   "cell_type": "code",
   "execution_count": null,
   "metadata": {
    "collapsed": true
   },
   "outputs": [],
   "source": [
    "CTsim[\"Duration_days\"]=CTsim[\"Duration\"].dt.days"
   ]
  },
  {
   "cell_type": "code",
   "execution_count": null,
   "metadata": {
    "collapsed": true
   },
   "outputs": [],
   "source": [
    "CTsim['beg_date_year'] = CTsim['beg_date'].dt.year"
   ]
  },
  {
   "cell_type": "code",
   "execution_count": null,
   "metadata": {
    "collapsed": true
   },
   "outputs": [],
   "source": [
    "CTsim.head()\n",
    "CTsim.dtypes\n",
    "#CTsim.columns.values"
   ]
  },
  {
   "cell_type": "code",
   "execution_count": null,
   "metadata": {
    "collapsed": true
   },
   "outputs": [],
   "source": [
    "CTsim.to_csv(\"CT_simple.csv\")"
   ]
  },
  {
   "cell_type": "markdown",
   "metadata": {},
   "source": [
    "## Analysis of dates"
   ]
  },
  {
   "cell_type": "code",
   "execution_count": null,
   "metadata": {
    "collapsed": true
   },
   "outputs": [],
   "source": [
    "CTdates=CTred[['completion_date','firstreceived_date', 'firstreceived_results_date','firstreceived_results_disposition_date', 'lastchanged_date',\n",
    "       'primary_completion_date', 'start_date', 'verification_date']]\n",
    "list(CTdates.columns.values)\n",
    "dates_rank=[s + \"_rank\" for s in list(CTdates.columns.values)]\n",
    "dates_rank"
   ]
  },
  {
   "cell_type": "code",
   "execution_count": null,
   "metadata": {
    "collapsed": true
   },
   "outputs": [],
   "source": [
    "CTdates[dates_rank]=CTdates.apply(lambda x: x.rank(), axis=1)"
   ]
  },
  {
   "cell_type": "code",
   "execution_count": null,
   "metadata": {
    "collapsed": true
   },
   "outputs": [],
   "source": [
    "dates_rank=CTdates[dates_rank].apply(lambda x: x.value_counts(dropna=False))\n",
    "#dates_rank.to_csv(\"CT_dates_rank.csv\")"
   ]
  },
  {
   "cell_type": "code",
   "execution_count": null,
   "metadata": {
    "collapsed": true
   },
   "outputs": [],
   "source": [
    "dates_rank.to_csv(\"C:\\\\Users\\\\ffitzpatrick\\\\Desktop\\\\Documents perso\\\\Perso\\\\Clinical trials - project\\\\2. Analysis\\\\Analysis extract\\\\CT_dates_rank.csv\")"
   ]
  },
  {
   "cell_type": "markdown",
   "metadata": {},
   "source": [
    "## Correlations enrollment and duration VS main categories"
   ]
  },
  {
   "cell_type": "markdown",
   "metadata": {},
   "source": [
    "### Arm and intervention types reformating"
   ]
  },
  {
   "cell_type": "code",
   "execution_count": null,
   "metadata": {
    "collapsed": true
   },
   "outputs": [],
   "source": [
    "CTsim['tokenized_intervention_type']=CTred['tokenized_intervention_type']\n",
    "CTsim['tokenized_arm_type']=CTred['tokenized_arm_type']"
   ]
  },
  {
   "cell_type": "code",
   "execution_count": null,
   "metadata": {
    "collapsed": true
   },
   "outputs": [],
   "source": [
    "CTtoken_intervention=CTsim['tokenized_intervention_type'].str.split(',', 2, expand=True)\n",
    "CTsim[\"intervention_type_token_1\"]=CTtoken_intervention.iloc[:,0].str.replace(\"[\",\"\")\n",
    "CTsim[\"intervention_type_token_2\"]=CTtoken_intervention.iloc[:,1].str.replace(\"]\",\"\")"
   ]
  },
  {
   "cell_type": "code",
   "execution_count": null,
   "metadata": {
    "collapsed": true
   },
   "outputs": [],
   "source": [
    "CTtoken_arm=CTsim['tokenized_arm_type'].str.split(',', 2, expand=True)\n",
    "CTsim[\"arm_type_token_1\"]=CTtoken_arm.iloc[:,0].str.replace(\"[\",\"\")\n",
    "CTsim[\"arm_type_token_2\"]=CTtoken_arm.iloc[:,1].str.replace(\"]\",\"\")"
   ]
  },
  {
   "cell_type": "code",
   "execution_count": null,
   "metadata": {
    "scrolled": true
   },
   "outputs": [],
   "source": [
    "#useful\n",
    "CTsim[\"tokenized_intervention_type\"].str.count(\",\").max(axis=0)"
   ]
  },
  {
   "cell_type": "markdown",
   "metadata": {},
   "source": [
    "### Outputs reformating? "
   ]
  },
  {
   "cell_type": "code",
   "execution_count": null,
   "metadata": {
    "collapsed": true
   },
   "outputs": [],
   "source": [
    "CTred[['primary_outcome.description','primary_outcome.measure', 'primary_outcome.time_frame','secondary_outcome.description', 'secondary_outcome.measure','secondary_outcome.time_frame']]"
   ]
  },
  {
   "cell_type": "markdown",
   "metadata": {},
   "source": [
    "### Correlation calculations"
   ]
  },
  {
   "cell_type": "code",
   "execution_count": null,
   "metadata": {
    "collapsed": true
   },
   "outputs": [],
   "source": [
    "cat_columns = CTsim.select_dtypes(['object']).columns\n",
    "cat_columns=cat_columns.drop(['tokenized_intervention_type','tokenized_arm_type','beg_date','end_date', 'Duration'])"
   ]
  },
  {
   "cell_type": "code",
   "execution_count": null,
   "metadata": {
    "collapsed": true
   },
   "outputs": [],
   "source": [
    "#cat_columns = CTsim.select_dtypes(['object']).columns\n",
    "cat_columns_new=[s + \"_cat\" for s in cat_columns]\n",
    "for col in cat_columns:\n",
    "    CTsim[col] = CTsim[col].astype('category')\n",
    "CTsim[cat_columns_new] = CTsim[cat_columns].apply(lambda x: x.cat.codes)"
   ]
  },
  {
   "cell_type": "code",
   "execution_count": null,
   "metadata": {
    "collapsed": true
   },
   "outputs": [],
   "source": [
    "corr_colums = CTsim.select_dtypes([\"int8\",'float64']).columns\n",
    "corr_colums\n",
    "#CTsim[CTsim.columns[1:]].corr()['enrollment']\n",
    "corr_enrollment=CTsim[corr_colums].corr()['enrollment']\n",
    "corr_duration=CTsim[corr_colums].corr()['Duration_days']\n",
    "corr_duration"
   ]
  },
  {
   "cell_type": "code",
   "execution_count": null,
   "metadata": {
    "collapsed": true
   },
   "outputs": [],
   "source": [
    "corr_enrollment.to_csv(\"C:\\\\Users\\\\ffitzpatrick\\\\Desktop\\\\Documents perso\\\\Perso\\\\Clinical trials - project\\\\2. Analysis\\\\Analysis extract\\\\CT_corr_enroll.csv\")"
   ]
  },
  {
   "cell_type": "code",
   "execution_count": null,
   "metadata": {
    "collapsed": true
   },
   "outputs": [],
   "source": [
    "corr_duration.to_csv(\"C:\\\\Users\\\\ffitzpatrick\\\\Desktop\\\\Documents perso\\\\Perso\\\\Clinical trials - project\\\\2. Analysis\\\\Analysis extract\\\\CT_corr_duration.csv\")"
   ]
  },
  {
   "cell_type": "markdown",
   "metadata": {},
   "source": [
    "## Time series of main categories "
   ]
  },
  {
   "cell_type": "code",
   "execution_count": null,
   "metadata": {
    "collapsed": true
   },
   "outputs": [],
   "source": [
    "CTsim.head()\n",
    "CTsim.columns.values\n",
    "CTsim.dtypes\n",
    "#cat_columns"
   ]
  },
  {
   "cell_type": "markdown",
   "metadata": {},
   "source": [
    "### Time series of main categories"
   ]
  },
  {
   "cell_type": "code",
   "execution_count": null,
   "metadata": {
    "collapsed": true
   },
   "outputs": [],
   "source": [
    "CT_temp=pd.DataFrame()\n",
    "for col in cat_columns:\n",
    "    col_name=[col]*(len(CTsim[col].cat.categories)+1)\n",
    "    CT_temp=pd.concat([CT_temp,pd.crosstab(CTsim['beg_date_year'], CTsim[col+\"_cat\"]).\n",
    "                       rename(columns=dict(enumerate(CTsim[col].cat.categories)))], axis=1)"
   ]
  },
  {
   "cell_type": "code",
   "execution_count": null,
   "metadata": {
    "collapsed": true
   },
   "outputs": [],
   "source": [
    "#test\n",
    "for col in cat_columns:\n",
    "    col_name=[col]*(len(CTsim[col].cat.categories)+1)\n",
    "    CT_temp=pd.concat([CT_temp,pd.crosstab(CTsim['beg_date_year'], CTsim[col+\"_cat\"]).\n",
    "                       rename(columns=dict(enumerate(CTsim[col].cat.categories))).\n",
    "                       append(col_name,ignore_index=True)], axis=1)"
   ]
  },
  {
   "cell_type": "code",
   "execution_count": null,
   "metadata": {
    "collapsed": true
   },
   "outputs": [],
   "source": [
    "CT_temp.to_csv(\"C:\\\\Users\\\\ffitzpatrick\\\\Desktop\\\\Documents perso\\\\Perso\\\\Clinical trials - project\\\\2. Analysis\\\\Analysis extract\\\\Time series\\\\CT_temp.csv\")"
   ]
  },
  {
   "cell_type": "markdown",
   "metadata": {},
   "source": [
    "### Average enrollment, duration, success, failures per year"
   ]
  },
  {
   "cell_type": "code",
   "execution_count": null,
   "metadata": {
    "collapsed": true
   },
   "outputs": [],
   "source": [
    "enrol_dur_avg=CTsim[[\"enrollment\",\"Duration_days\",'beg_date_year']].groupby(['beg_date_year']).mean()"
   ]
  },
  {
   "cell_type": "code",
   "execution_count": null,
   "metadata": {
    "collapsed": true
   },
   "outputs": [],
   "source": [
    "CTsim['firstreceived_results_date']=CTred['firstreceived_results_date']\n",
    "enrol_dur_avg[\"results\"]=CTsim[[\"firstreceived_results_date\",'beg_date_year']].groupby(['beg_date_year']).count()"
   ]
  },
  {
   "cell_type": "code",
   "execution_count": null,
   "metadata": {
    "collapsed": true
   },
   "outputs": [],
   "source": [
    "CTsim['why_stopped.text']=CTred['why_stopped.text']\n",
    "enrol_dur_avg[\"failures\"]=CTsim[[\"why_stopped.text\",'beg_date_year']].groupby(['beg_date_year']).count()"
   ]
  },
  {
   "cell_type": "code",
   "execution_count": null,
   "metadata": {
    "collapsed": true
   },
   "outputs": [],
   "source": [
    "enrol_dur_avg.to_csv(\"C:\\\\Users\\\\ffitzpatrick\\\\Desktop\\\\Documents perso\\\\Perso\\\\Clinical trials - project\\\\2. Analysis\\\\Analysis extract\\\\CT_enrol_dur_avg.csv\")"
   ]
  },
  {
   "cell_type": "markdown",
   "metadata": {},
   "source": [
    "## Phase analysis"
   ]
  },
  {
   "cell_type": "code",
   "execution_count": null,
   "metadata": {
    "collapsed": true
   },
   "outputs": [],
   "source": [
    "CTphase=CTsim[pd.isnull(CTsim['phase.text'])]"
   ]
  },
  {
   "cell_type": "code",
   "execution_count": null,
   "metadata": {
    "collapsed": true
   },
   "outputs": [],
   "source": [
    "overall_status_count=CTphase.loc[:,'overall_status.text'].value_counts(dropna=False).sort_values(ascending=False)\n",
    "study_design_intermodel_count=CTphase.loc[:,'study_design_info.intervention_model'].value_counts(dropna=False).sort_values(ascending=False)\n",
    "study_design_masking_count=CTphase.loc[:,'study_design_info.masking'].value_counts(dropna=False).sort_values(ascending=False)\n",
    "study_design_purpose_count=CTphase.loc[:,'study_design_info.primary_purpose'].value_counts(dropna=False).sort_values(ascending=False)\n",
    "study_design_type_count=CTphase.loc[:,'study_type.text'].value_counts(dropna=False).sort_values(ascending=False)"
   ]
  },
  {
   "cell_type": "code",
   "execution_count": null,
   "metadata": {
    "collapsed": true
   },
   "outputs": [],
   "source": [
    "CT_keyvar_phase=pd.concat([pd.DataFrame({'overall_status Val':overall_status_count.index, 'overall_status Vol':overall_status_count.values}),\n",
    "                    pd.DataFrame({'study_design_intermodel Val':study_design_intermodel_count.index, 'study_design_intermodel Vol':study_design_intermodel_count.values}),\n",
    "                     pd.DataFrame({'study_design_masking Val':study_design_masking_count.index, 'study_design_masking Vol':study_design_masking_count.values}),\n",
    "                     pd.DataFrame({'study_design_purpose Val':study_design_purpose_count.index, 'study_design_purpose Vol':study_design_purpose_count.values}),\n",
    "                     pd.DataFrame({'study_design_type Val':study_design_type_count.index, 'study_design_type Vol':study_design_type_count.values})\n",
    "                    ], axis=1)"
   ]
  },
  {
   "cell_type": "code",
   "execution_count": null,
   "metadata": {
    "collapsed": true
   },
   "outputs": [],
   "source": [
    "CT_keyvar_phase.to_csv(\"C:\\\\Users\\\\ffitzpatrick\\\\Desktop\\\\Documents perso\\\\Perso\\\\Clinical trials - project\\\\2. Analysis\\\\Analysis extract\\\\CT_keyvar_phase.csv\")"
   ]
  },
  {
   "cell_type": "code",
   "execution_count": null,
   "metadata": {
    "collapsed": true
   },
   "outputs": [],
   "source": [
    "cat_columns = CTsim.select_dtypes(['category']).columns\n",
    "cat_columns=cat_columns[1:len(cat_columns)]\n",
    "cat_columns"
   ]
  },
  {
   "cell_type": "code",
   "execution_count": null,
   "metadata": {
    "collapsed": true
   },
   "outputs": [],
   "source": [
    "for col in cat_columns:\n",
    "    CTsim[col] = CTsim[col].astype('category')"
   ]
  },
  {
   "cell_type": "code",
   "execution_count": null,
   "metadata": {
    "collapsed": true
   },
   "outputs": [],
   "source": [
    "CT_temp=pd.DataFrame()\n",
    "for col in cat_columns:\n",
    "    CT_temp=pd.concat([CT_temp,pd.crosstab(CTphase['beg_date_year'], CTphase[col+\"_cat\"]).\n",
    "                       rename(columns=dict(enumerate(CTphase[col].cat.categories)))], axis=1)"
   ]
  },
  {
   "cell_type": "code",
   "execution_count": null,
   "metadata": {
    "collapsed": true
   },
   "outputs": [],
   "source": [
    "CT_temp.to_csv(\"C:\\\\Users\\\\ffitzpatrick\\\\Desktop\\\\Documents perso\\\\Perso\\\\Clinical trials - project\\\\2. Analysis\\\\Analysis extract\\\\Time series\\\\CT_temp_phase.csv\")"
   ]
  }
 ],
 "metadata": {
  "kernelspec": {
   "display_name": "Python 3",
   "language": "python",
   "name": "python3"
  },
  "language_info": {
   "codemirror_mode": {
    "name": "ipython",
    "version": 3
   },
   "file_extension": ".py",
   "mimetype": "text/x-python",
   "name": "python",
   "nbconvert_exporter": "python",
   "pygments_lexer": "ipython3",
   "version": "3.6.1"
  },
  "toc": {
   "colors": {
    "hover_highlight": "#DAA520",
    "running_highlight": "#FF0000",
    "selected_highlight": "#FFD700"
   },
   "moveMenuLeft": true,
   "nav_menu": {
    "height": "139px",
    "width": "252px"
   },
   "navigate_menu": true,
   "number_sections": true,
   "sideBar": true,
   "threshold": 4,
   "toc_cell": false,
   "toc_section_display": "block",
   "toc_window_display": true
  }
 },
 "nbformat": 4,
 "nbformat_minor": 2
}
